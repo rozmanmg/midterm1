{
 "cells": [
  {
   "cell_type": "markdown",
   "id": "febd0a9d-bea2-4bcb-974d-86e5a31fb52a",
   "metadata": {},
   "source": [
    "# Hermite polynomials"
   ]
  },
  {
   "cell_type": "markdown",
   "id": "14fa18ac-a4f2-4e75-b54a-4a28f05abc66",
   "metadata": {},
   "source": [
    "**Hermite polynomials** is a particular kind of *special\n",
    "functions* that are important in physics and applied mathematics.\n",
    "  \n",
    "Hermite polynomials are defined as follows:\n",
    "\n",
    "$$H_n(x)=your-markdown-here, \n",
    "\\qquad n = 0, 1, \\ldots \\quad -\\infty \\le x \\le \\infty.$$\n",
    "\n",
    "The first few Hermite polynomials are as follows:\n",
    "  \n",
    "$$H_{0}(x) = 1, \\quad H_{1}(x) = 2x , \\quad H_2(x) = your-markdown-here,\n",
    "    \\quad H_3(x) = your-markdown-here .$$\n",
    "\n",
    "The polynomials are named after the mathematician Charles Hermite.\n",
    "\n",
    "Hermite polynomials $H_n(x)$ satisfy the following recurrence relations:\n",
    "\n",
    "$$your-markdown-here, \\quad n = 1, 2, \\ldots$$"
   ]
  },
  {
   "cell_type": "code",
   "execution_count": null,
   "id": "52056ccb",
   "metadata": {},
   "outputs": [],
   "source": [
    "\n",
    "using PyPlot"
   ]
  },
  {
   "cell_type": "code",
   "execution_count": null,
   "id": "b32a3c0e",
   "metadata": {},
   "outputs": [],
   "source": [
    "\n",
    "\"\"\"\n",
    "    y = myhermite(n, x)\n",
    "\n",
    "Your-function-description-here\n",
    "\"\"\"\n",
    "function myhermite(n, x)\n",
    "    # your code here\n",
    "end"
   ]
  },
  {
   "cell_type": "code",
   "execution_count": null,
   "id": "edd481a8-ce2c-44eb-8c2f-beb0f9f195aa",
   "metadata": {},
   "outputs": [],
   "source": [
    "\n",
    "?myhermite"
   ]
  },
  {
   "cell_type": "code",
   "execution_count": null,
   "id": "16b63744-e4ae-4d96-995a-d8d6b410af80",
   "metadata": {},
   "outputs": [],
   "source": [
    "\n",
    "np = 200\n",
    "x = range(-3.0, 3.0, np);"
   ]
  },
  {
   "cell_type": "code",
   "execution_count": null,
   "id": "ec0e816b",
   "metadata": {},
   "outputs": [],
   "source": [
    "\n",
    "# your ploting code here\n",
    "ylim(-140.0, 140.0);  # Specify the y limits"
   ]
  },
  {
   "cell_type": "code",
   "execution_count": null,
   "id": "dfe33294",
   "metadata": {},
   "outputs": [],
   "source": []
  }
 ],
 "metadata": {
  "kernelspec": {
   "display_name": "Julia 1.10.5",
   "language": "julia",
   "name": "julia-1.10"
  },
  "language_info": {
   "file_extension": ".jl",
   "mimetype": "application/julia",
   "name": "julia",
   "version": "1.10.5"
  }
 },
 "nbformat": 4,
 "nbformat_minor": 5
}
