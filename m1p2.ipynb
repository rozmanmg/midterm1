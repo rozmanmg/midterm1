{
 "cells": [
  {
   "cell_type": "markdown",
   "id": "1f57a06f-9b32-4663-abee-4d0f0d639740",
   "metadata": {},
   "source": [
    "# Basel problem and Richardson extrapolation"
   ]
  },
  {
   "cell_type": "markdown",
   "id": "0c3d02c2-70ab-40e5-8c7f-e5c2fc342599",
   "metadata": {},
   "source": [
    "The Basel problem asks for the precise summation of the following infinite series:\n",
    "$$\n",
    "    S = \\sum_{n=1}^{\\infty} your-markdown-here.\n",
    "$$\n",
    "The problem was posed in 1650 and solved by Leonhard Euler in\n",
    "1734. Euler found the exact sum to be $your-markdown-here$.\n",
    "Since the problem had withstood the attacks of the leading\n",
    "mathematicians of the day, Euler's solution brought him immediate\n",
    "fame. The problem is named after Basel, hometown of Euler."
   ]
  },
  {
   "cell_type": "markdown",
   "id": "f359e073-67e3-4018-8ca0-75ec02cff727",
   "metadata": {},
   "source": [
    "The Basel series converges very slowly: direct summation of the first 100 terms (which is close to the limit that people in the 17th century could do by hand) gives an absolute error of about 0.01. Your task is to evaluate the sum with an absolute error of about 0.0001 (i.e. 100 times smaller) by using Richardson extrapolation, while still summing not more than 100 terms in the series."
   ]
  },
  {
   "cell_type": "code",
   "execution_count": null,
   "id": "cf9ee858-d021-4f8d-bae7-90afcde950aa",
   "metadata": {},
   "outputs": [],
   "source": [
    "\n",
    "\"\"\"\n",
    "    res = mybasel(n)\n",
    "\n",
    "Your description of the function and the parameter(s) goes here\n",
    "\"\"\"\n",
    "function mybasel(n)\n",
    "    # your code here\n",
    "end"
   ]
  },
  {
   "cell_type": "code",
   "execution_count": null,
   "id": "4629377d-9a4e-4d90-a158-9f14243dd08a",
   "metadata": {},
   "outputs": [],
   "source": [
    "\n",
    "?mybasel"
   ]
  },
  {
   "cell_type": "code",
   "execution_count": null,
   "id": "19251dc7-7661-4a59-a73f-0a2a62e1e7b9",
   "metadata": {},
   "outputs": [],
   "source": [
    "\n",
    "exact = # <- your code"
   ]
  },
  {
   "cell_type": "code",
   "execution_count": null,
   "id": "84ae9559-9dec-4663-8f72-6ece5ef1e237",
   "metadata": {},
   "outputs": [],
   "source": [
    "\n",
    "s1 = mybasel(50)\n",
    "s2 = mybasel(100)\n",
    "abs(s2 - exact)    # show the error"
   ]
  },
  {
   "cell_type": "code",
   "execution_count": null,
   "id": "7ff60861-dc7d-437c-a8b0-130061832b7a",
   "metadata": {},
   "outputs": [],
   "source": [
    "\n",
    "richardson = # <- your code\n",
    "abs(richardson - exact)"
   ]
  },
  {
   "cell_type": "code",
   "execution_count": null,
   "id": "2cae37b2-a2ea-4de8-b5e4-eeda36528dbb",
   "metadata": {},
   "outputs": [],
   "source": [
    "\n",
    "richardson  # show the result"
   ]
  },
  {
   "cell_type": "code",
   "execution_count": null,
   "id": "ecf219fc-9dff-42d4-8383-2b7dfdf70795",
   "metadata": {},
   "outputs": [],
   "source": []
  }
 ],
 "metadata": {
  "kernelspec": {
   "display_name": "Julia 1.10.5",
   "language": "julia",
   "name": "julia-1.10"
  },
  "language_info": {
   "file_extension": ".jl",
   "mimetype": "application/julia",
   "name": "julia",
   "version": "1.10.5"
  }
 },
 "nbformat": 4,
 "nbformat_minor": 5
}
